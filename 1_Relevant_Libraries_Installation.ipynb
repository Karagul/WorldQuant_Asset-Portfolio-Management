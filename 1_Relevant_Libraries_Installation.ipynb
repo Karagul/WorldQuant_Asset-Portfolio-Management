{
 "cells": [
  {
   "cell_type": "markdown",
   "metadata": {},
   "source": [
    "# Asset Portfolio Management using Deep Reinforcement Learning\n",
    "---"
   ]
  },
  {
   "cell_type": "markdown",
   "metadata": {},
   "source": [
    "## 1.0 Load and Install Relevant Libraries and Packages\n",
    "----\n",
    "\n",
    "* We install the relevant Libraries using the FinRL Library\n",
    "* We further check that all the required Libraries are installed and if not we use !pip install to install them"
   ]
  },
  {
   "cell_type": "markdown",
   "metadata": {},
   "source": [
    "### 1.1 Install Packages through FinRL Library      "
   ]
  },
  {
   "cell_type": "code",
   "execution_count": 1,
   "metadata": {},
   "outputs": [],
   "source": [
    "## install finrl library if not installed\n",
    "\n",
    "import pkg_resources\n",
    "import pip\n",
    "installedPackages = {pkg.key for pkg in pkg_resources.working_set} # list of installed packages\n",
    "\n",
    "if 'finrl' not in installedPackages:\n",
    "    !pip install git+https://github.com/AI4Finance-LLC/FinRL-Library.git #clone the FinRL library to install required packages"
   ]
  },
  {
   "cell_type": "markdown",
   "metadata": {},
   "source": [
    "----\n",
    "### 1.2. Check if the additional Required packages are present. If not, install them\n",
    "\n",
    "* Yahoo Finance API\n",
    "* pandas\n",
    "* numpy\n",
    "* matplotlib\n",
    "* stockstats\n",
    "* OpenAI gym\n",
    "* stable-baselines\n",
    "* tensorflow\n",
    "* pyfolio\n",
    "* ta\n",
    "* PyPortfolioOpt"
   ]
  },
  {
   "cell_type": "code",
   "execution_count": null,
   "metadata": {},
   "outputs": [],
   "source": [
    "required = {'yfinance', 'pandas','numpy', 'matplotlib', 'stockstats','stable-baselines',\n",
    "            'gym','tensorflow','pyfolio', 'ta', 'PyPortfolioOpt'}\n",
    "missing = required - installedPackages\n",
    "if missing:\n",
    "    !pip install yfinance\n",
    "    !pip install pandas\n",
    "    !pip install numpy\n",
    "    !pip install matplotlib\n",
    "    !pip install stockstats\n",
    "    !pip install gym\n",
    "    !pip install stable-baselines3[extra]\n",
    "    !pip install tensorflow\n",
    "    !pip install git+https://github.com/quantopian/pyfolio\n",
    "    !pip install ta\n",
    "    !pip install PyPortfolioOpt"
   ]
  },
  {
   "cell_type": "code",
   "execution_count": null,
   "metadata": {},
   "outputs": [],
   "source": []
  }
 ],
 "metadata": {
  "kernelspec": {
   "display_name": "Python 3",
   "language": "python",
   "name": "python3"
  },
  "language_info": {
   "codemirror_mode": {
    "name": "ipython",
    "version": 3
   },
   "file_extension": ".py",
   "mimetype": "text/x-python",
   "name": "python",
   "nbconvert_exporter": "python",
   "pygments_lexer": "ipython3",
   "version": "3.8.5"
  }
 },
 "nbformat": 4,
 "nbformat_minor": 4
}
