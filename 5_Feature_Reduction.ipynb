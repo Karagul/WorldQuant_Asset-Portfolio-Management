{
 "cells": [
  {
   "cell_type": "markdown",
   "metadata": {},
   "source": [
    "# Asset Portfolio Management using Deep Reinforcement Learning\n",
    "---"
   ]
  },
  {
   "cell_type": "markdown",
   "metadata": {},
   "source": [
    "## 5.0 Feature Reduction\n",
    "---\n",
    "\n",
    "Autoencoders are used to reduce the number of technical indicators to be represented by only two features"
   ]
  },
  {
   "cell_type": "markdown",
   "metadata": {},
   "source": [
    "### 5.1 Import Relevant Libraries"
   ]
  },
  {
   "cell_type": "code",
   "execution_count": 200,
   "metadata": {},
   "outputs": [],
   "source": [
    "import numpy as np\n",
    "import pandas as pd\n",
    "import tensorflow as tf\n",
    "import keras\n",
    "import matplotlib.pyplot as plt"
   ]
  },
  {
   "cell_type": "code",
   "execution_count": 201,
   "metadata": {},
   "outputs": [],
   "source": [
    "# lstm autoencoder recreate sequence\n",
    "from numpy import array\n",
    "from keras.models import Model, Sequential\n",
    "from keras.layers import Input\n",
    "from keras.layers import LSTM\n",
    "from keras.layers import Dense\n",
    "from keras.layers import RepeatVector\n",
    "from keras.layers import TimeDistributed\n",
    "from keras.utils import plot_model\n",
    "\n",
    "from sklearn import preprocessing"
   ]
  },
  {
   "cell_type": "markdown",
   "metadata": {},
   "source": [
    "### 5.2 Load the Data"
   ]
  },
  {
   "cell_type": "code",
   "execution_count": 274,
   "metadata": {},
   "outputs": [],
   "source": [
    "%store -r df"
   ]
  },
  {
   "cell_type": "code",
   "execution_count": 275,
   "metadata": {},
   "outputs": [
    {
     "data": {
      "text/html": [
       "<div>\n",
       "<style scoped>\n",
       "    .dataframe tbody tr th:only-of-type {\n",
       "        vertical-align: middle;\n",
       "    }\n",
       "\n",
       "    .dataframe tbody tr th {\n",
       "        vertical-align: top;\n",
       "    }\n",
       "\n",
       "    .dataframe thead th {\n",
       "        text-align: right;\n",
       "    }\n",
       "</style>\n",
       "<table border=\"1\" class=\"dataframe\">\n",
       "  <thead>\n",
       "    <tr style=\"text-align: right;\">\n",
       "      <th></th>\n",
       "      <th>date</th>\n",
       "      <th>tic</th>\n",
       "      <th>close</th>\n",
       "      <th>high</th>\n",
       "      <th>low</th>\n",
       "      <th>open</th>\n",
       "      <th>volume</th>\n",
       "      <th>atr</th>\n",
       "      <th>bbw</th>\n",
       "      <th>obv</th>\n",
       "      <th>cmf</th>\n",
       "      <th>macd</th>\n",
       "      <th>adx</th>\n",
       "      <th>sma</th>\n",
       "      <th>ema</th>\n",
       "      <th>cci</th>\n",
       "      <th>rsi</th>\n",
       "      <th>cov_list</th>\n",
       "    </tr>\n",
       "  </thead>\n",
       "  <tbody>\n",
       "    <tr>\n",
       "      <th>0</th>\n",
       "      <td>2009-03-20</td>\n",
       "      <td>AXP</td>\n",
       "      <td>10.072534</td>\n",
       "      <td>13.19</td>\n",
       "      <td>12.12</td>\n",
       "      <td>13.190000</td>\n",
       "      <td>31088200.0</td>\n",
       "      <td>16.678314</td>\n",
       "      <td>243.395109</td>\n",
       "      <td>-1.445076e+10</td>\n",
       "      <td>-14.875466</td>\n",
       "      <td>-2.758666</td>\n",
       "      <td>5.959579</td>\n",
       "      <td>21.112451</td>\n",
       "      <td>18.906621</td>\n",
       "      <td>-76.944259</td>\n",
       "      <td>46.527407</td>\n",
       "      <td>[[0.002610715086827884, 0.0012647352623545009,...</td>\n",
       "    </tr>\n",
       "    <tr>\n",
       "      <th>1</th>\n",
       "      <td>2009-03-20</td>\n",
       "      <td>DIS</td>\n",
       "      <td>15.026185</td>\n",
       "      <td>17.98</td>\n",
       "      <td>17.08</td>\n",
       "      <td>17.799999</td>\n",
       "      <td>17766600.0</td>\n",
       "      <td>18.208550</td>\n",
       "      <td>242.540988</td>\n",
       "      <td>-1.441968e+10</td>\n",
       "      <td>-14.772689</td>\n",
       "      <td>-2.079888</td>\n",
       "      <td>5.944065</td>\n",
       "      <td>23.204316</td>\n",
       "      <td>20.512819</td>\n",
       "      <td>-57.177326</td>\n",
       "      <td>47.834794</td>\n",
       "      <td>[[0.002610715086827884, 0.0012647352623545009,...</td>\n",
       "    </tr>\n",
       "    <tr>\n",
       "      <th>2</th>\n",
       "      <td>2009-03-20</td>\n",
       "      <td>HD</td>\n",
       "      <td>16.652840</td>\n",
       "      <td>22.73</td>\n",
       "      <td>21.76</td>\n",
       "      <td>22.590000</td>\n",
       "      <td>22361800.0</td>\n",
       "      <td>16.276229</td>\n",
       "      <td>243.588752</td>\n",
       "      <td>-1.442840e+10</td>\n",
       "      <td>-14.632660</td>\n",
       "      <td>-2.734109</td>\n",
       "      <td>5.686130</td>\n",
       "      <td>19.282005</td>\n",
       "      <td>18.559885</td>\n",
       "      <td>-41.654768</td>\n",
       "      <td>48.539462</td>\n",
       "      <td>[[0.002610715086827884, 0.0012647352623545009,...</td>\n",
       "    </tr>\n",
       "    <tr>\n",
       "      <th>3</th>\n",
       "      <td>2009-03-20</td>\n",
       "      <td>IBM</td>\n",
       "      <td>64.557983</td>\n",
       "      <td>95.00</td>\n",
       "      <td>92.18</td>\n",
       "      <td>93.160004</td>\n",
       "      <td>12193900.0</td>\n",
       "      <td>21.418925</td>\n",
       "      <td>243.773182</td>\n",
       "      <td>-1.447454e+10</td>\n",
       "      <td>-13.786223</td>\n",
       "      <td>2.275133</td>\n",
       "      <td>7.138456</td>\n",
       "      <td>20.680496</td>\n",
       "      <td>27.180991</td>\n",
       "      <td>218.356625</td>\n",
       "      <td>60.801785</td>\n",
       "      <td>[[0.002610715086827884, 0.0012647352623545009,...</td>\n",
       "    </tr>\n",
       "    <tr>\n",
       "      <th>4</th>\n",
       "      <td>2009-03-20</td>\n",
       "      <td>INTC</td>\n",
       "      <td>10.250909</td>\n",
       "      <td>15.40</td>\n",
       "      <td>14.35</td>\n",
       "      <td>15.190000</td>\n",
       "      <td>84639100.0</td>\n",
       "      <td>14.878890</td>\n",
       "      <td>244.037410</td>\n",
       "      <td>-1.451304e+10</td>\n",
       "      <td>-13.949048</td>\n",
       "      <td>-3.194407</td>\n",
       "      <td>5.647357</td>\n",
       "      <td>18.807598</td>\n",
       "      <td>17.281581</td>\n",
       "      <td>-70.446011</td>\n",
       "      <td>46.698434</td>\n",
       "      <td>[[0.002610715086827884, 0.0012647352623545009,...</td>\n",
       "    </tr>\n",
       "  </tbody>\n",
       "</table>\n",
       "</div>"
      ],
      "text/plain": [
       "         date   tic      close   high    low       open      volume  \\\n",
       "0  2009-03-20   AXP  10.072534  13.19  12.12  13.190000  31088200.0   \n",
       "1  2009-03-20   DIS  15.026185  17.98  17.08  17.799999  17766600.0   \n",
       "2  2009-03-20    HD  16.652840  22.73  21.76  22.590000  22361800.0   \n",
       "3  2009-03-20   IBM  64.557983  95.00  92.18  93.160004  12193900.0   \n",
       "4  2009-03-20  INTC  10.250909  15.40  14.35  15.190000  84639100.0   \n",
       "\n",
       "         atr         bbw           obv        cmf      macd       adx  \\\n",
       "0  16.678314  243.395109 -1.445076e+10 -14.875466 -2.758666  5.959579   \n",
       "1  18.208550  242.540988 -1.441968e+10 -14.772689 -2.079888  5.944065   \n",
       "2  16.276229  243.588752 -1.442840e+10 -14.632660 -2.734109  5.686130   \n",
       "3  21.418925  243.773182 -1.447454e+10 -13.786223  2.275133  7.138456   \n",
       "4  14.878890  244.037410 -1.451304e+10 -13.949048 -3.194407  5.647357   \n",
       "\n",
       "         sma        ema         cci        rsi  \\\n",
       "0  21.112451  18.906621  -76.944259  46.527407   \n",
       "1  23.204316  20.512819  -57.177326  47.834794   \n",
       "2  19.282005  18.559885  -41.654768  48.539462   \n",
       "3  20.680496  27.180991  218.356625  60.801785   \n",
       "4  18.807598  17.281581  -70.446011  46.698434   \n",
       "\n",
       "                                            cov_list  \n",
       "0  [[0.002610715086827884, 0.0012647352623545009,...  \n",
       "1  [[0.002610715086827884, 0.0012647352623545009,...  \n",
       "2  [[0.002610715086827884, 0.0012647352623545009,...  \n",
       "3  [[0.002610715086827884, 0.0012647352623545009,...  \n",
       "4  [[0.002610715086827884, 0.0012647352623545009,...  "
      ]
     },
     "execution_count": 275,
     "metadata": {},
     "output_type": "execute_result"
    }
   ],
   "source": [
    "df.head()"
   ]
  },
  {
   "cell_type": "code",
   "execution_count": 276,
   "metadata": {},
   "outputs": [],
   "source": [
    "# Get the list of all the features\n",
    "features_list = list(df.columns)[7:-1]"
   ]
  },
  {
   "cell_type": "code",
   "execution_count": 277,
   "metadata": {},
   "outputs": [
    {
     "name": "stdout",
     "output_type": "stream",
     "text": [
      "['atr', 'bbw', 'obv', 'cmf', 'macd', 'adx', 'sma', 'ema', 'cci', 'rsi']\n"
     ]
    }
   ],
   "source": [
    "print(features_list)"
   ]
  },
  {
   "cell_type": "markdown",
   "metadata": {},
   "source": [
    "### 5.2 Construct a Data Frame of Features"
   ]
  },
  {
   "cell_type": "code",
   "execution_count": 278,
   "metadata": {},
   "outputs": [],
   "source": [
    "# construct a data frame of features\n",
    "features_df = df[features_list]\n",
    "features_df.index = df['date']"
   ]
  },
  {
   "cell_type": "code",
   "execution_count": 279,
   "metadata": {},
   "outputs": [
    {
     "data": {
      "text/html": [
       "<div>\n",
       "<style scoped>\n",
       "    .dataframe tbody tr th:only-of-type {\n",
       "        vertical-align: middle;\n",
       "    }\n",
       "\n",
       "    .dataframe tbody tr th {\n",
       "        vertical-align: top;\n",
       "    }\n",
       "\n",
       "    .dataframe thead th {\n",
       "        text-align: right;\n",
       "    }\n",
       "</style>\n",
       "<table border=\"1\" class=\"dataframe\">\n",
       "  <thead>\n",
       "    <tr style=\"text-align: right;\">\n",
       "      <th></th>\n",
       "      <th>atr</th>\n",
       "      <th>bbw</th>\n",
       "      <th>obv</th>\n",
       "      <th>cmf</th>\n",
       "      <th>macd</th>\n",
       "      <th>adx</th>\n",
       "      <th>sma</th>\n",
       "      <th>ema</th>\n",
       "      <th>cci</th>\n",
       "      <th>rsi</th>\n",
       "    </tr>\n",
       "    <tr>\n",
       "      <th>date</th>\n",
       "      <th></th>\n",
       "      <th></th>\n",
       "      <th></th>\n",
       "      <th></th>\n",
       "      <th></th>\n",
       "      <th></th>\n",
       "      <th></th>\n",
       "      <th></th>\n",
       "      <th></th>\n",
       "      <th></th>\n",
       "    </tr>\n",
       "  </thead>\n",
       "  <tbody>\n",
       "    <tr>\n",
       "      <th>2009-03-20</th>\n",
       "      <td>16.678314</td>\n",
       "      <td>243.395109</td>\n",
       "      <td>-1.445076e+10</td>\n",
       "      <td>-14.875466</td>\n",
       "      <td>-2.758666</td>\n",
       "      <td>5.959579</td>\n",
       "      <td>21.112451</td>\n",
       "      <td>18.906621</td>\n",
       "      <td>-76.944259</td>\n",
       "      <td>46.527407</td>\n",
       "    </tr>\n",
       "    <tr>\n",
       "      <th>2009-03-20</th>\n",
       "      <td>18.208550</td>\n",
       "      <td>242.540988</td>\n",
       "      <td>-1.441968e+10</td>\n",
       "      <td>-14.772689</td>\n",
       "      <td>-2.079888</td>\n",
       "      <td>5.944065</td>\n",
       "      <td>23.204316</td>\n",
       "      <td>20.512819</td>\n",
       "      <td>-57.177326</td>\n",
       "      <td>47.834794</td>\n",
       "    </tr>\n",
       "    <tr>\n",
       "      <th>2009-03-20</th>\n",
       "      <td>16.276229</td>\n",
       "      <td>243.588752</td>\n",
       "      <td>-1.442840e+10</td>\n",
       "      <td>-14.632660</td>\n",
       "      <td>-2.734109</td>\n",
       "      <td>5.686130</td>\n",
       "      <td>19.282005</td>\n",
       "      <td>18.559885</td>\n",
       "      <td>-41.654768</td>\n",
       "      <td>48.539462</td>\n",
       "    </tr>\n",
       "    <tr>\n",
       "      <th>2009-03-20</th>\n",
       "      <td>21.418925</td>\n",
       "      <td>243.773182</td>\n",
       "      <td>-1.447454e+10</td>\n",
       "      <td>-13.786223</td>\n",
       "      <td>2.275133</td>\n",
       "      <td>7.138456</td>\n",
       "      <td>20.680496</td>\n",
       "      <td>27.180991</td>\n",
       "      <td>218.356625</td>\n",
       "      <td>60.801785</td>\n",
       "    </tr>\n",
       "    <tr>\n",
       "      <th>2009-03-20</th>\n",
       "      <td>14.878890</td>\n",
       "      <td>244.037410</td>\n",
       "      <td>-1.451304e+10</td>\n",
       "      <td>-13.949048</td>\n",
       "      <td>-3.194407</td>\n",
       "      <td>5.647357</td>\n",
       "      <td>18.807598</td>\n",
       "      <td>17.281581</td>\n",
       "      <td>-70.446011</td>\n",
       "      <td>46.698434</td>\n",
       "    </tr>\n",
       "  </tbody>\n",
       "</table>\n",
       "</div>"
      ],
      "text/plain": [
       "                  atr         bbw           obv        cmf      macd  \\\n",
       "date                                                                   \n",
       "2009-03-20  16.678314  243.395109 -1.445076e+10 -14.875466 -2.758666   \n",
       "2009-03-20  18.208550  242.540988 -1.441968e+10 -14.772689 -2.079888   \n",
       "2009-03-20  16.276229  243.588752 -1.442840e+10 -14.632660 -2.734109   \n",
       "2009-03-20  21.418925  243.773182 -1.447454e+10 -13.786223  2.275133   \n",
       "2009-03-20  14.878890  244.037410 -1.451304e+10 -13.949048 -3.194407   \n",
       "\n",
       "                 adx        sma        ema         cci        rsi  \n",
       "date                                                               \n",
       "2009-03-20  5.959579  21.112451  18.906621  -76.944259  46.527407  \n",
       "2009-03-20  5.944065  23.204316  20.512819  -57.177326  47.834794  \n",
       "2009-03-20  5.686130  19.282005  18.559885  -41.654768  48.539462  \n",
       "2009-03-20  7.138456  20.680496  27.180991  218.356625  60.801785  \n",
       "2009-03-20  5.647357  18.807598  17.281581  -70.446011  46.698434  "
      ]
     },
     "execution_count": 279,
     "metadata": {},
     "output_type": "execute_result"
    }
   ],
   "source": [
    "features_df.head()"
   ]
  },
  {
   "cell_type": "code",
   "execution_count": 280,
   "metadata": {},
   "outputs": [
    {
     "data": {
      "text/plain": [
       "(59360, 10)"
      ]
     },
     "execution_count": 280,
     "metadata": {},
     "output_type": "execute_result"
    }
   ],
   "source": [
    "features_df.shape"
   ]
  },
  {
   "cell_type": "code",
   "execution_count": 281,
   "metadata": {},
   "outputs": [
    {
     "data": {
      "text/plain": [
       "(59360, 18)"
      ]
     },
     "execution_count": 281,
     "metadata": {},
     "output_type": "execute_result"
    }
   ],
   "source": [
    "df.shape"
   ]
  },
  {
   "cell_type": "markdown",
   "metadata": {},
   "source": [
    "### 5.3 Normalize the Features and Construct an Autoencoder"
   ]
  },
  {
   "cell_type": "code",
   "execution_count": 282,
   "metadata": {},
   "outputs": [],
   "source": [
    "features_array = np.array(features_df)\n",
    "\n",
    "features_scaler = preprocessing.MinMaxScaler()\n",
    "features_normalised = features_scaler.fit_transform(features_array)"
   ]
  },
  {
   "cell_type": "code",
   "execution_count": 283,
   "metadata": {},
   "outputs": [
    {
     "data": {
      "text/plain": [
       "(59360, 10)"
      ]
     },
     "execution_count": 283,
     "metadata": {},
     "output_type": "execute_result"
    }
   ],
   "source": [
    "features_normalised.shape"
   ]
  },
  {
   "cell_type": "code",
   "execution_count": 284,
   "metadata": {},
   "outputs": [],
   "source": [
    "# rescale the features array\n",
    "features_normalised = features_normalised.reshape(-1,20,10)"
   ]
  },
  {
   "cell_type": "code",
   "execution_count": 285,
   "metadata": {},
   "outputs": [
    {
     "data": {
      "text/plain": [
       "(2968, 20, 10)"
      ]
     },
     "execution_count": 285,
     "metadata": {},
     "output_type": "execute_result"
    }
   ],
   "source": [
    "features_normalised.shape"
   ]
  },
  {
   "cell_type": "code",
   "execution_count": 286,
   "metadata": {},
   "outputs": [],
   "source": [
    "# define model\n",
    "model = Sequential()\n",
    "model.add(LSTM(4, activation='relu', input_shape=(20,10)))\n",
    "model.add(RepeatVector(20))\n",
    "model.add(LSTM(100, activation='relu', return_sequences=True))\n",
    "model.add(TimeDistributed(Dense(10)))\n",
    "model.compile(optimizer='adam', loss='mse')"
   ]
  },
  {
   "cell_type": "code",
   "execution_count": 287,
   "metadata": {},
   "outputs": [
    {
     "name": "stdout",
     "output_type": "stream",
     "text": [
      "Epoch 1/100\n",
      "93/93 [==============================] - 2s 23ms/step - loss: 0.0705\n",
      "Epoch 2/100\n",
      "93/93 [==============================] - 2s 19ms/step - loss: 0.0140\n",
      "Epoch 3/100\n",
      "93/93 [==============================] - 2s 19ms/step - loss: 0.0097: 0s - loss\n",
      "Epoch 4/100\n",
      "93/93 [==============================] - 2s 19ms/step - loss: 0.0088\n",
      "Epoch 5/100\n",
      "93/93 [==============================] - 2s 19ms/step - loss: 0.0080: 0s - \n",
      "Epoch 6/100\n",
      "93/93 [==============================] - 2s 19ms/step - loss: 0.0060\n",
      "Epoch 7/100\n",
      "93/93 [==============================] - 2s 19ms/step - loss: 0.0049\n",
      "Epoch 8/100\n",
      "93/93 [==============================] - 2s 18ms/step - loss: 0.0043\n",
      "Epoch 9/100\n",
      "93/93 [==============================] - 2s 21ms/step - loss: 0.0039\n",
      "Epoch 10/100\n",
      "93/93 [==============================] - 3s 28ms/step - loss: 0.0033: 0s - loss: \n",
      "Epoch 11/100\n",
      "93/93 [==============================] - 2s 25ms/step - loss: 0.0030\n",
      "Epoch 12/100\n",
      "93/93 [==============================] - 2s 20ms/step - loss: 0.0028\n",
      "Epoch 13/100\n",
      "93/93 [==============================] - 2s 19ms/step - loss: 0.0026\n",
      "Epoch 14/100\n",
      "93/93 [==============================] - 2s 21ms/step - loss: 0.0025\n",
      "Epoch 15/100\n",
      "93/93 [==============================] - 2s 21ms/step - loss: 0.0024\n",
      "Epoch 16/100\n",
      "93/93 [==============================] - 2s 22ms/step - loss: 0.0023\n",
      "Epoch 17/100\n",
      "93/93 [==============================] - 2s 23ms/step - loss: 0.0022\n",
      "Epoch 18/100\n",
      "93/93 [==============================] - 2s 21ms/step - loss: 0.0021\n",
      "Epoch 19/100\n",
      "93/93 [==============================] - 2s 20ms/step - loss: 0.0020\n",
      "Epoch 20/100\n",
      "93/93 [==============================] - 2s 22ms/step - loss: 0.0020\n",
      "Epoch 21/100\n",
      "93/93 [==============================] - 2s 24ms/step - loss: 0.0019: 0s - los\n",
      "Epoch 22/100\n",
      "93/93 [==============================] - 2s 24ms/step - loss: 0.0018\n",
      "Epoch 23/100\n",
      "93/93 [==============================] - 2s 21ms/step - loss: 0.0018\n",
      "Epoch 24/100\n",
      "93/93 [==============================] - 2s 22ms/step - loss: 0.0017: 0s - l\n",
      "Epoch 25/100\n",
      "93/93 [==============================] - 2s 24ms/step - loss: 0.0017\n",
      "Epoch 26/100\n",
      "93/93 [==============================] - 2s 23ms/step - loss: 0.0016: 0s - loss: 0.0\n",
      "Epoch 27/100\n",
      "93/93 [==============================] - 2s 21ms/step - loss: 0.0015\n",
      "Epoch 28/100\n",
      "93/93 [==============================] - 2s 21ms/step - loss: 0.0015\n",
      "Epoch 29/100\n",
      "93/93 [==============================] - 2s 22ms/step - loss: 0.0014\n",
      "Epoch 30/100\n",
      "93/93 [==============================] - 2s 21ms/step - loss: 0.0013\n",
      "Epoch 31/100\n",
      "93/93 [==============================] - 2s 23ms/step - loss: 0.0012\n",
      "Epoch 32/100\n",
      "93/93 [==============================] - 2s 23ms/step - loss: 0.0011: \n",
      "Epoch 33/100\n",
      "93/93 [==============================] - 2s 25ms/step - loss: 0.0011: 1s - loss:  - ETA\n",
      "Epoch 34/100\n",
      "93/93 [==============================] - ETA: 0s - loss: 0.001 - 2s 22ms/step - loss: 0.0010\n",
      "Epoch 35/100\n",
      "93/93 [==============================] - 2s 22ms/step - loss: 9.8890e-04\n",
      "Epoch 36/100\n",
      "93/93 [==============================] - 2s 21ms/step - loss: 9.7222e-04\n",
      "Epoch 37/100\n",
      "93/93 [==============================] - 2s 22ms/step - loss: 9.0392e-04\n",
      "Epoch 38/100\n",
      "93/93 [==============================] - 2s 22ms/step - loss: 8.8579e-04\n",
      "Epoch 39/100\n",
      "93/93 [==============================] - 2s 22ms/step - loss: 8.7772e-04\n",
      "Epoch 40/100\n",
      "93/93 [==============================] - 2s 24ms/step - loss: 8.4718e-04: 0s -\n",
      "Epoch 41/100\n",
      "93/93 [==============================] - 2s 21ms/step - loss: 8.4736e-04\n",
      "Epoch 42/100\n",
      "93/93 [==============================] - 2s 23ms/step - loss: 7.9177e-04\n",
      "Epoch 43/100\n",
      "93/93 [==============================] - 2s 22ms/step - loss: 7.9848e-04\n",
      "Epoch 44/100\n",
      "93/93 [==============================] - 2s 22ms/step - loss: 7.9310e-04\n",
      "Epoch 45/100\n",
      "93/93 [==============================] - 2s 21ms/step - loss: 8.0506e-04: 0\n",
      "Epoch 46/100\n",
      "93/93 [==============================] - 2s 22ms/step - loss: 7.6304e-04- ETA: 0s - loss: 7.6304e-0\n",
      "Epoch 47/100\n",
      "93/93 [==============================] - 2s 23ms/step - loss: 7.5712e-04\n",
      "Epoch 48/100\n",
      "93/93 [==============================] - 2s 24ms/step - loss: 7.4560e-04\n",
      "Epoch 49/100\n",
      "93/93 [==============================] - 2s 22ms/step - loss: 7.2269e-04\n",
      "Epoch 50/100\n",
      "93/93 [==============================] - 2s 21ms/step - loss: 7.1981e-04\n",
      "Epoch 51/100\n",
      "93/93 [==============================] - 2s 22ms/step - loss: 7.0005e-04\n",
      "Epoch 52/100\n",
      "93/93 [==============================] - 2s 21ms/step - loss: 7.1056e-04\n",
      "Epoch 53/100\n",
      "93/93 [==============================] - 2s 22ms/step - loss: 6.8145e-04\n",
      "Epoch 54/100\n",
      "93/93 [==============================] - 2s 22ms/step - loss: 6.9244e-04\n",
      "Epoch 55/100\n",
      "93/93 [==============================] - 2s 25ms/step - loss: 6.7023e-04\n",
      "Epoch 56/100\n",
      "93/93 [==============================] - 2s 24ms/step - loss: 6.5493e-04\n",
      "Epoch 57/100\n",
      "93/93 [==============================] - 2s 21ms/step - loss: 6.5827e-04\n",
      "Epoch 58/100\n",
      "93/93 [==============================] - 2s 20ms/step - loss: 6.5637e-04\n",
      "Epoch 59/100\n",
      "93/93 [==============================] - 2s 22ms/step - loss: 6.2702e-04\n",
      "Epoch 60/100\n",
      "93/93 [==============================] - 2s 19ms/step - loss: 6.2919e-04\n",
      "Epoch 61/100\n",
      "93/93 [==============================] - 2s 19ms/step - loss: 6.2819e-04\n",
      "Epoch 62/100\n",
      "93/93 [==============================] - 2s 21ms/step - loss: 6.3378e-04\n",
      "Epoch 63/100\n",
      "93/93 [==============================] - 2s 21ms/step - loss: 6.1976e-04\n",
      "Epoch 64/100\n",
      "93/93 [==============================] - 2s 22ms/step - loss: 6.0561e-04\n",
      "Epoch 65/100\n",
      "93/93 [==============================] - 2s 21ms/step - loss: 6.0846e-04\n",
      "Epoch 66/100\n",
      "93/93 [==============================] - 2s 20ms/step - loss: 6.1238e-04\n",
      "Epoch 67/100\n",
      "93/93 [==============================] - 2s 20ms/step - loss: 5.9239e-04: 0s - loss: 5.\n",
      "Epoch 68/100\n",
      "93/93 [==============================] - 2s 19ms/step - loss: 6.0421e-04\n",
      "Epoch 69/100\n",
      "93/93 [==============================] - 2s 18ms/step - loss: 5.8380e-04\n",
      "Epoch 70/100\n",
      "93/93 [==============================] - 2s 20ms/step - loss: 5.7551e-04\n",
      "Epoch 71/100\n",
      "93/93 [==============================] - 2s 23ms/step - loss: 5.6394e-04: 0s - \n",
      "Epoch 72/100\n",
      "93/93 [==============================] - 2s 23ms/step - loss: 5.7201e-04\n",
      "Epoch 73/100\n",
      "93/93 [==============================] - 2s 20ms/step - loss: 5.5877e-04: 0s - loss:\n",
      "Epoch 74/100\n",
      "93/93 [==============================] - 2s 20ms/step - loss: 5.6792e-04\n",
      "Epoch 75/100\n",
      "93/93 [==============================] - 2s 22ms/step - loss: 5.6637e-04: 0s - loss: 5.75\n",
      "Epoch 76/100\n",
      "93/93 [==============================] - 2s 20ms/step - loss: 5.4919e-04\n",
      "Epoch 77/100\n",
      "93/93 [==============================] - 2s 20ms/step - loss: 5.4195e-04\n",
      "Epoch 78/100\n",
      "93/93 [==============================] - 2s 20ms/step - loss: 5.3427e-04\n",
      "Epoch 79/100\n",
      "93/93 [==============================] - 2s 20ms/step - loss: 5.3470e-04\n",
      "Epoch 80/100\n",
      "93/93 [==============================] - 2s 24ms/step - loss: 5.3344e-04\n",
      "Epoch 81/100\n",
      "93/93 [==============================] - 2s 22ms/step - loss: 5.3201e-04\n",
      "Epoch 82/100\n",
      "93/93 [==============================] - 2s 20ms/step - loss: 5.2823e-04\n",
      "Epoch 83/100\n",
      "93/93 [==============================] - 2s 19ms/step - loss: 5.2923e-04\n",
      "Epoch 84/100\n",
      "93/93 [==============================] - 2s 20ms/step - loss: 5.2668e-04\n",
      "Epoch 85/100\n",
      "93/93 [==============================] - 2s 21ms/step - loss: 5.1717e-04: 0s - loss: 5.\n",
      "Epoch 86/100\n",
      "93/93 [==============================] - 2s 21ms/step - loss: 5.1951e-04\n",
      "Epoch 87/100\n",
      "93/93 [==============================] - 2s 22ms/step - loss: 5.2502e-04\n",
      "Epoch 88/100\n",
      "93/93 [==============================] - 2s 23ms/step - loss: 5.1259e-04\n",
      "Epoch 89/100\n",
      "93/93 [==============================] - 2s 22ms/step - loss: 5.1838e-04\n",
      "Epoch 90/100\n",
      "93/93 [==============================] - 2s 19ms/step - loss: 4.9849e-04:\n",
      "Epoch 91/100\n",
      "93/93 [==============================] - 2s 20ms/step - loss: 5.0934e-04\n",
      "Epoch 92/100\n",
      "93/93 [==============================] - 2s 21ms/step - loss: 5.0302e-04\n",
      "Epoch 93/100\n",
      "93/93 [==============================] - 2s 22ms/step - loss: 4.9198e-04\n",
      "Epoch 94/100\n",
      "93/93 [==============================] - 2s 20ms/step - loss: 4.9393e-04\n",
      "Epoch 95/100\n"
     ]
    },
    {
     "name": "stdout",
     "output_type": "stream",
     "text": [
      "93/93 [==============================] - 2s 23ms/step - loss: 4.9410e-04\n",
      "Epoch 96/100\n",
      "93/93 [==============================] - 2s 23ms/step - loss: 5.0314e-04\n",
      "Epoch 97/100\n",
      "93/93 [==============================] - 2s 21ms/step - loss: 4.8456e-04\n",
      "Epoch 98/100\n",
      "93/93 [==============================] - 2s 23ms/step - loss: 4.7781e-04\n",
      "Epoch 99/100\n",
      "93/93 [==============================] - 2s 22ms/step - loss: 4.6631e-04\n",
      "Epoch 100/100\n",
      "93/93 [==============================] - 2s 20ms/step - loss: 4.6408e-04\n"
     ]
    },
    {
     "data": {
      "image/png": "[encoded data removed]",
      "text/plain": [
       "<IPython.core.display.Image object>"
      ]
     },
     "execution_count": 287,
     "metadata": {},
     "output_type": "execute_result"
    }
   ],
   "source": [
    "# fit model\n",
    "model.fit(features_normalised, features_normalised, epochs=100, verbose=1)\n",
    "plot_model(model, show_shapes=True, to_file='./results/reconstruct_lstm_autoencoder.png')"
   ]
  },
  {
   "cell_type": "code",
   "execution_count": 256,
   "metadata": {},
   "outputs": [
    {
     "name": "stdout",
     "output_type": "stream",
     "text": [
      "Model: \"sequential_28\"\n",
      "_________________________________________________________________\n",
      "Layer (type)                 Output Shape              Param #   \n",
      "=================================================================\n",
      "lstm_50 (LSTM)               (None, 4)                 240       \n",
      "_________________________________________________________________\n",
      "repeat_vector_22 (RepeatVect (None, 20, 4)             0         \n",
      "_________________________________________________________________\n",
      "lstm_51 (LSTM)               (None, 20, 100)           42000     \n",
      "_________________________________________________________________\n",
      "time_distributed_18 (TimeDis (None, 20, 10)            1010      \n",
      "=================================================================\n",
      "Total params: 43,250\n",
      "Trainable params: 43,250\n",
      "Non-trainable params: 0\n",
      "_________________________________________________________________\n"
     ]
    }
   ],
   "source": [
    "model.summary()"
   ]
  },
  {
   "cell_type": "code",
   "execution_count": 273,
   "metadata": {
    "scrolled": true
   },
   "outputs": [
    {
     "data": {
      "image/png": "[encoded data removed]",
      "text/plain": [
       "<IPython.core.display.Image object>"
      ]
     },
     "execution_count": 273,
     "metadata": {},
     "output_type": "execute_result"
    }
   ],
   "source": [
    "# connect the encoder LSTM as the output layer\n",
    "model_feature = Model(inputs=model.inputs, outputs=model.layers[1].output)\n",
    "plot_model(model_feature, show_shapes=True, show_layer_names=True, to_file='./results/lstm_encoder.png')"
   ]
  },
  {
   "cell_type": "code",
   "execution_count": 258,
   "metadata": {},
   "outputs": [
    {
     "name": "stdout",
     "output_type": "stream",
     "text": [
      "Model: \"functional_17\"\n",
      "_________________________________________________________________\n",
      "Layer (type)                 Output Shape              Param #   \n",
      "=================================================================\n",
      "lstm_50_input (InputLayer)   [(None, 20, 10)]          0         \n",
      "_________________________________________________________________\n",
      "lstm_50 (LSTM)               (None, 4)                 240       \n",
      "_________________________________________________________________\n",
      "repeat_vector_22 (RepeatVect (None, 20, 4)             0         \n",
      "=================================================================\n",
      "Total params: 240\n",
      "Trainable params: 240\n",
      "Non-trainable params: 0\n",
      "_________________________________________________________________\n"
     ]
    }
   ],
   "source": [
    "model_feature.summary()"
   ]
  },
  {
   "cell_type": "markdown",
   "metadata": {},
   "source": [
    "### 5.4 Get the Reconstructed Features"
   ]
  },
  {
   "cell_type": "code",
   "execution_count": 259,
   "metadata": {
    "scrolled": true
   },
   "outputs": [
    {
     "name": "stdout",
     "output_type": "stream",
     "text": [
      "(2968, 20, 4)\n"
     ]
    }
   ],
   "source": [
    "# get the feature vector for the input sequence\n",
    "yhat = model_feature.predict(features_normalised)\n",
    "print(yhat.shape)"
   ]
  },
  {
   "cell_type": "code",
   "execution_count": 260,
   "metadata": {},
   "outputs": [],
   "source": [
    "# reshape the vector\n",
    "features_reduced = yhat.reshape(-1,4)"
   ]
  },
  {
   "cell_type": "code",
   "execution_count": 261,
   "metadata": {},
   "outputs": [
    {
     "data": {
      "text/plain": [
       "(59360, 18)"
      ]
     },
     "execution_count": 261,
     "metadata": {},
     "output_type": "execute_result"
    }
   ],
   "source": [
    "df.shape"
   ]
  },
  {
   "cell_type": "code",
   "execution_count": 262,
   "metadata": {},
   "outputs": [
    {
     "data": {
      "text/plain": [
       "(59360, 4)"
      ]
     },
     "execution_count": 262,
     "metadata": {},
     "output_type": "execute_result"
    }
   ],
   "source": [
    "features_reduced.shape"
   ]
  },
  {
   "cell_type": "code",
   "execution_count": 263,
   "metadata": {},
   "outputs": [],
   "source": [
    "# Copy original data frame and drop the original features\n",
    "df_reduced = df.copy()\n",
    "df_reduced = df_reduced .drop(features_list, axis=1)"
   ]
  },
  {
   "cell_type": "code",
   "execution_count": 264,
   "metadata": {},
   "outputs": [
    {
     "data": {
      "text/html": [
       "<div>\n",
       "<style scoped>\n",
       "    .dataframe tbody tr th:only-of-type {\n",
       "        vertical-align: middle;\n",
       "    }\n",
       "\n",
       "    .dataframe tbody tr th {\n",
       "        vertical-align: top;\n",
       "    }\n",
       "\n",
       "    .dataframe thead th {\n",
       "        text-align: right;\n",
       "    }\n",
       "</style>\n",
       "<table border=\"1\" class=\"dataframe\">\n",
       "  <thead>\n",
       "    <tr style=\"text-align: right;\">\n",
       "      <th></th>\n",
       "      <th>date</th>\n",
       "      <th>tic</th>\n",
       "      <th>close</th>\n",
       "      <th>high</th>\n",
       "      <th>low</th>\n",
       "      <th>open</th>\n",
       "      <th>volume</th>\n",
       "      <th>cov_list</th>\n",
       "    </tr>\n",
       "  </thead>\n",
       "  <tbody>\n",
       "    <tr>\n",
       "      <th>0</th>\n",
       "      <td>2009-03-20</td>\n",
       "      <td>AXP</td>\n",
       "      <td>10.072534</td>\n",
       "      <td>13.19</td>\n",
       "      <td>12.12</td>\n",
       "      <td>13.190000</td>\n",
       "      <td>31088200.0</td>\n",
       "      <td>[[0.002610715086827884, 0.0012647352623545009,...</td>\n",
       "    </tr>\n",
       "    <tr>\n",
       "      <th>1</th>\n",
       "      <td>2009-03-20</td>\n",
       "      <td>DIS</td>\n",
       "      <td>15.026185</td>\n",
       "      <td>17.98</td>\n",
       "      <td>17.08</td>\n",
       "      <td>17.799999</td>\n",
       "      <td>17766600.0</td>\n",
       "      <td>[[0.002610715086827884, 0.0012647352623545009,...</td>\n",
       "    </tr>\n",
       "    <tr>\n",
       "      <th>2</th>\n",
       "      <td>2009-03-20</td>\n",
       "      <td>HD</td>\n",
       "      <td>16.652840</td>\n",
       "      <td>22.73</td>\n",
       "      <td>21.76</td>\n",
       "      <td>22.590000</td>\n",
       "      <td>22361800.0</td>\n",
       "      <td>[[0.002610715086827884, 0.0012647352623545009,...</td>\n",
       "    </tr>\n",
       "    <tr>\n",
       "      <th>3</th>\n",
       "      <td>2009-03-20</td>\n",
       "      <td>IBM</td>\n",
       "      <td>64.557983</td>\n",
       "      <td>95.00</td>\n",
       "      <td>92.18</td>\n",
       "      <td>93.160004</td>\n",
       "      <td>12193900.0</td>\n",
       "      <td>[[0.002610715086827884, 0.0012647352623545009,...</td>\n",
       "    </tr>\n",
       "    <tr>\n",
       "      <th>4</th>\n",
       "      <td>2009-03-20</td>\n",
       "      <td>INTC</td>\n",
       "      <td>10.250909</td>\n",
       "      <td>15.40</td>\n",
       "      <td>14.35</td>\n",
       "      <td>15.190000</td>\n",
       "      <td>84639100.0</td>\n",
       "      <td>[[0.002610715086827884, 0.0012647352623545009,...</td>\n",
       "    </tr>\n",
       "  </tbody>\n",
       "</table>\n",
       "</div>"
      ],
      "text/plain": [
       "         date   tic      close   high    low       open      volume  \\\n",
       "0  2009-03-20   AXP  10.072534  13.19  12.12  13.190000  31088200.0   \n",
       "1  2009-03-20   DIS  15.026185  17.98  17.08  17.799999  17766600.0   \n",
       "2  2009-03-20    HD  16.652840  22.73  21.76  22.590000  22361800.0   \n",
       "3  2009-03-20   IBM  64.557983  95.00  92.18  93.160004  12193900.0   \n",
       "4  2009-03-20  INTC  10.250909  15.40  14.35  15.190000  84639100.0   \n",
       "\n",
       "                                            cov_list  \n",
       "0  [[0.002610715086827884, 0.0012647352623545009,...  \n",
       "1  [[0.002610715086827884, 0.0012647352623545009,...  \n",
       "2  [[0.002610715086827884, 0.0012647352623545009,...  \n",
       "3  [[0.002610715086827884, 0.0012647352623545009,...  \n",
       "4  [[0.002610715086827884, 0.0012647352623545009,...  "
      ]
     },
     "execution_count": 264,
     "metadata": {},
     "output_type": "execute_result"
    }
   ],
   "source": [
    "df_reduced.head()"
   ]
  },
  {
   "cell_type": "code",
   "execution_count": 265,
   "metadata": {},
   "outputs": [],
   "source": [
    "# convert the reduced features to a data frame and merge with the original data frame\n",
    "features_reduced_df = pd.DataFrame(features_reduced, columns=['f01','f02','f03','f04'])"
   ]
  },
  {
   "cell_type": "code",
   "execution_count": 268,
   "metadata": {},
   "outputs": [
    {
     "data": {
      "text/html": [
       "<div>\n",
       "<style scoped>\n",
       "    .dataframe tbody tr th:only-of-type {\n",
       "        vertical-align: middle;\n",
       "    }\n",
       "\n",
       "    .dataframe tbody tr th {\n",
       "        vertical-align: top;\n",
       "    }\n",
       "\n",
       "    .dataframe thead th {\n",
       "        text-align: right;\n",
       "    }\n",
       "</style>\n",
       "<table border=\"1\" class=\"dataframe\">\n",
       "  <thead>\n",
       "    <tr style=\"text-align: right;\">\n",
       "      <th></th>\n",
       "      <th>f01</th>\n",
       "      <th>f02</th>\n",
       "      <th>f03</th>\n",
       "      <th>f04</th>\n",
       "    </tr>\n",
       "  </thead>\n",
       "  <tbody>\n",
       "    <tr>\n",
       "      <th>0</th>\n",
       "      <td>1.764112</td>\n",
       "      <td>0.488414</td>\n",
       "      <td>5.262903</td>\n",
       "      <td>5.777148</td>\n",
       "    </tr>\n",
       "    <tr>\n",
       "      <th>1</th>\n",
       "      <td>1.764112</td>\n",
       "      <td>0.488414</td>\n",
       "      <td>5.262903</td>\n",
       "      <td>5.777148</td>\n",
       "    </tr>\n",
       "    <tr>\n",
       "      <th>2</th>\n",
       "      <td>1.764112</td>\n",
       "      <td>0.488414</td>\n",
       "      <td>5.262903</td>\n",
       "      <td>5.777148</td>\n",
       "    </tr>\n",
       "    <tr>\n",
       "      <th>3</th>\n",
       "      <td>1.764112</td>\n",
       "      <td>0.488414</td>\n",
       "      <td>5.262903</td>\n",
       "      <td>5.777148</td>\n",
       "    </tr>\n",
       "    <tr>\n",
       "      <th>4</th>\n",
       "      <td>1.764112</td>\n",
       "      <td>0.488414</td>\n",
       "      <td>5.262903</td>\n",
       "      <td>5.777148</td>\n",
       "    </tr>\n",
       "  </tbody>\n",
       "</table>\n",
       "</div>"
      ],
      "text/plain": [
       "        f01       f02       f03       f04\n",
       "0  1.764112  0.488414  5.262903  5.777148\n",
       "1  1.764112  0.488414  5.262903  5.777148\n",
       "2  1.764112  0.488414  5.262903  5.777148\n",
       "3  1.764112  0.488414  5.262903  5.777148\n",
       "4  1.764112  0.488414  5.262903  5.777148"
      ]
     },
     "execution_count": 268,
     "metadata": {},
     "output_type": "execute_result"
    }
   ],
   "source": [
    "features_reduced_df.head()"
   ]
  },
  {
   "cell_type": "code",
   "execution_count": 269,
   "metadata": {},
   "outputs": [],
   "source": [
    "df_reduced[['f01','f02','f03','f04']] = features_reduced_df[['f01','f02','f03','f04']]"
   ]
  },
  {
   "cell_type": "code",
   "execution_count": 270,
   "metadata": {},
   "outputs": [
    {
     "data": {
      "text/html": [
       "<div>\n",
       "<style scoped>\n",
       "    .dataframe tbody tr th:only-of-type {\n",
       "        vertical-align: middle;\n",
       "    }\n",
       "\n",
       "    .dataframe tbody tr th {\n",
       "        vertical-align: top;\n",
       "    }\n",
       "\n",
       "    .dataframe thead th {\n",
       "        text-align: right;\n",
       "    }\n",
       "</style>\n",
       "<table border=\"1\" class=\"dataframe\">\n",
       "  <thead>\n",
       "    <tr style=\"text-align: right;\">\n",
       "      <th></th>\n",
       "      <th>date</th>\n",
       "      <th>tic</th>\n",
       "      <th>close</th>\n",
       "      <th>high</th>\n",
       "      <th>low</th>\n",
       "      <th>open</th>\n",
       "      <th>volume</th>\n",
       "      <th>cov_list</th>\n",
       "      <th>f01</th>\n",
       "      <th>f02</th>\n",
       "      <th>f03</th>\n",
       "      <th>f04</th>\n",
       "    </tr>\n",
       "  </thead>\n",
       "  <tbody>\n",
       "    <tr>\n",
       "      <th>0</th>\n",
       "      <td>2009-03-20</td>\n",
       "      <td>AXP</td>\n",
       "      <td>10.072534</td>\n",
       "      <td>13.19</td>\n",
       "      <td>12.12</td>\n",
       "      <td>13.190000</td>\n",
       "      <td>31088200.0</td>\n",
       "      <td>[[0.002610715086827884, 0.0012647352623545009,...</td>\n",
       "      <td>1.764112</td>\n",
       "      <td>0.488414</td>\n",
       "      <td>5.262903</td>\n",
       "      <td>5.777148</td>\n",
       "    </tr>\n",
       "    <tr>\n",
       "      <th>1</th>\n",
       "      <td>2009-03-20</td>\n",
       "      <td>DIS</td>\n",
       "      <td>15.026185</td>\n",
       "      <td>17.98</td>\n",
       "      <td>17.08</td>\n",
       "      <td>17.799999</td>\n",
       "      <td>17766600.0</td>\n",
       "      <td>[[0.002610715086827884, 0.0012647352623545009,...</td>\n",
       "      <td>1.764112</td>\n",
       "      <td>0.488414</td>\n",
       "      <td>5.262903</td>\n",
       "      <td>5.777148</td>\n",
       "    </tr>\n",
       "    <tr>\n",
       "      <th>2</th>\n",
       "      <td>2009-03-20</td>\n",
       "      <td>HD</td>\n",
       "      <td>16.652840</td>\n",
       "      <td>22.73</td>\n",
       "      <td>21.76</td>\n",
       "      <td>22.590000</td>\n",
       "      <td>22361800.0</td>\n",
       "      <td>[[0.002610715086827884, 0.0012647352623545009,...</td>\n",
       "      <td>1.764112</td>\n",
       "      <td>0.488414</td>\n",
       "      <td>5.262903</td>\n",
       "      <td>5.777148</td>\n",
       "    </tr>\n",
       "    <tr>\n",
       "      <th>3</th>\n",
       "      <td>2009-03-20</td>\n",
       "      <td>IBM</td>\n",
       "      <td>64.557983</td>\n",
       "      <td>95.00</td>\n",
       "      <td>92.18</td>\n",
       "      <td>93.160004</td>\n",
       "      <td>12193900.0</td>\n",
       "      <td>[[0.002610715086827884, 0.0012647352623545009,...</td>\n",
       "      <td>1.764112</td>\n",
       "      <td>0.488414</td>\n",
       "      <td>5.262903</td>\n",
       "      <td>5.777148</td>\n",
       "    </tr>\n",
       "    <tr>\n",
       "      <th>4</th>\n",
       "      <td>2009-03-20</td>\n",
       "      <td>INTC</td>\n",
       "      <td>10.250909</td>\n",
       "      <td>15.40</td>\n",
       "      <td>14.35</td>\n",
       "      <td>15.190000</td>\n",
       "      <td>84639100.0</td>\n",
       "      <td>[[0.002610715086827884, 0.0012647352623545009,...</td>\n",
       "      <td>1.764112</td>\n",
       "      <td>0.488414</td>\n",
       "      <td>5.262903</td>\n",
       "      <td>5.777148</td>\n",
       "    </tr>\n",
       "  </tbody>\n",
       "</table>\n",
       "</div>"
      ],
      "text/plain": [
       "         date   tic      close   high    low       open      volume  \\\n",
       "0  2009-03-20   AXP  10.072534  13.19  12.12  13.190000  31088200.0   \n",
       "1  2009-03-20   DIS  15.026185  17.98  17.08  17.799999  17766600.0   \n",
       "2  2009-03-20    HD  16.652840  22.73  21.76  22.590000  22361800.0   \n",
       "3  2009-03-20   IBM  64.557983  95.00  92.18  93.160004  12193900.0   \n",
       "4  2009-03-20  INTC  10.250909  15.40  14.35  15.190000  84639100.0   \n",
       "\n",
       "                                            cov_list       f01       f02  \\\n",
       "0  [[0.002610715086827884, 0.0012647352623545009,...  1.764112  0.488414   \n",
       "1  [[0.002610715086827884, 0.0012647352623545009,...  1.764112  0.488414   \n",
       "2  [[0.002610715086827884, 0.0012647352623545009,...  1.764112  0.488414   \n",
       "3  [[0.002610715086827884, 0.0012647352623545009,...  1.764112  0.488414   \n",
       "4  [[0.002610715086827884, 0.0012647352623545009,...  1.764112  0.488414   \n",
       "\n",
       "        f03       f04  \n",
       "0  5.262903  5.777148  \n",
       "1  5.262903  5.777148  \n",
       "2  5.262903  5.777148  \n",
       "3  5.262903  5.777148  \n",
       "4  5.262903  5.777148  "
      ]
     },
     "execution_count": 270,
     "metadata": {},
     "output_type": "execute_result"
    }
   ],
   "source": [
    "df_reduced.head()"
   ]
  },
  {
   "cell_type": "code",
   "execution_count": 271,
   "metadata": {},
   "outputs": [],
   "source": [
    "data_df = df_reduced.copy()"
   ]
  },
  {
   "cell_type": "code",
   "execution_count": 272,
   "metadata": {},
   "outputs": [
    {
     "name": "stdout",
     "output_type": "stream",
     "text": [
      "Stored 'data_df' (DataFrame)\n"
     ]
    }
   ],
   "source": [
    "%store data_df"
   ]
  },
  {
   "cell_type": "code",
   "execution_count": null,
   "metadata": {},
   "outputs": [],
   "source": []
  }
 ],
 "metadata": {
  "kernelspec": {
   "display_name": "Python 3",
   "language": "python",
   "name": "python3"
  },
  "language_info": {
   "codemirror_mode": {
    "name": "ipython",
    "version": 3
   },
   "file_extension": ".py",
   "mimetype": "text/x-python",
   "name": "python",
   "nbconvert_exporter": "python",
   "pygments_lexer": "ipython3",
   "version": "3.8.5"
  }
 },
 "nbformat": 4,
 "nbformat_minor": 4
}
