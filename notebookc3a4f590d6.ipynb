{
 "cells": [
  {
   "cell_type": "markdown",
   "id": "c27d339f",
   "metadata": {
    "papermill": {
     "duration": 0.002783,
     "end_time": "2022-10-16T09:12:14.064279",
     "exception": false,
     "start_time": "2022-10-16T09:12:14.061496",
     "status": "completed"
    },
    "tags": []
   },
   "source": [
    "## Investigating the popularity of The Office TV show"
   ]
  },
  {
   "cell_type": "markdown",
   "id": "c8eda058",
   "metadata": {
    "papermill": {
     "duration": 0.001781,
     "end_time": "2022-10-16T09:12:14.069208",
     "exception": false,
     "start_time": "2022-10-16T09:12:14.067427",
     "status": "completed"
    },
    "tags": []
   },
   "source": [
    "---\n",
    "### 1. Introduction\n",
    "\n",
    "First aired in 2001, the Office is a popular British TV series which depicts the work lives of employees in an office of a paper manufacturing company. \n",
    "\n",
    "\n",
    "The series ran for 9 seasons with a total of 201 episodes. In this post, we will analyze the popularity of each of the episodes by considering the following:\n",
    "\n",
    "\n",
    "1. Viewership. The number of US viewers in millions\n",
    "\n",
    "2. Rating of the Episodes. We consider a scaled rating from 0 being the worst to 1 being the best.\n",
    "\n",
    "3. Star Features. We look at which of the episodes featured stars and which ones did not.\n",
    "\n",
    "The analysis is accomplished using a scatterplot which incorporates the above three aspects. This is done using python programming.\n",
    "\n",
    "---"
   ]
  },
  {
   "cell_type": "code",
   "execution_count": null,
   "id": "0ad0afe8",
   "metadata": {
    "papermill": {
     "duration": 0.001405,
     "end_time": "2022-10-16T09:12:14.072262",
     "exception": false,
     "start_time": "2022-10-16T09:12:14.070857",
     "status": "completed"
    },
    "tags": []
   },
   "outputs": [],
   "source": []
  }
 ],
 "metadata": {
  "kernelspec": {
   "display_name": "Python 3",
   "language": "python",
   "name": "python3"
  },
  "language_info": {
   "codemirror_mode": {
    "name": "ipython",
    "version": 3
   },
   "file_extension": ".py",
   "mimetype": "text/x-python",
   "name": "python",
   "nbconvert_exporter": "python",
   "pygments_lexer": "ipython3",
   "version": "3.7.12"
  },
  "papermill": {
   "default_parameters": {},
   "duration": 9.758592,
   "end_time": "2022-10-16T09:12:14.697328",
   "environment_variables": {},
   "exception": null,
   "input_path": "__notebook__.ipynb",
   "output_path": "__notebook__.ipynb",
   "parameters": {},
   "start_time": "2022-10-16T09:12:04.938736",
   "version": "2.3.4"
  }
 },
 "nbformat": 4,
 "nbformat_minor": 5
}
