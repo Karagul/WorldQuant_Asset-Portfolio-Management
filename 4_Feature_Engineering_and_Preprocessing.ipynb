{
 "cells": [
  {
   "cell_type": "markdown",
   "metadata": {},
   "source": [
    "# Asset Portfolio Management using Deep Reinforcement Learning\n",
    "---"
   ]
  },
  {
   "cell_type": "markdown",
   "metadata": {},
   "source": [
    "## 4.0 Feature Engineering and Data Preprocessing\n",
    "---\n",
    "We perform feature engineering and data preprocessing by:\n",
    "* Adding Technical Indicators to the data. The technical inicators are used as inputs in the training of our Reinforcement Learning Model\n",
    "* Adding Coveriance Matrices which is also used as input for training the Models\n",
    "* Splitting the data into the training set and the testing (trading) set"
   ]
  },
  {
   "cell_type": "markdown",
   "metadata": {},
   "source": [
    "### 4.1 Import Relevant Libraries"
   ]
  },
  {
   "cell_type": "code",
   "execution_count": 37,
   "metadata": {},
   "outputs": [],
   "source": [
    "import pandas as pd\n",
    "import numpy as np\n",
    "import ta\n",
    "from ta import add_all_ta_features\n",
    "from ta.utils import dropna\n",
    "from finrl.preprocessing.data import data_split\n",
    "from finrl.preprocessing.preprocessors import FeatureEngineer"
   ]
  },
  {
   "cell_type": "markdown",
   "metadata": {},
   "source": [
    "### 4.2 Load the Data from the csv Files"
   ]
  },
  {
   "cell_type": "code",
   "execution_count": 55,
   "metadata": {},
   "outputs": [],
   "source": [
    "# Load the whole data set\n",
    "data = pd.read_csv('./datasets/data.csv')\n",
    "\n",
    "# Load the close prices dataset\n",
    "prices_data = pd.read_csv('./datasets/close_prices.csv')"
   ]
  },
  {
   "cell_type": "code",
   "execution_count": 56,
   "metadata": {},
   "outputs": [],
   "source": [
    "%store -r filtered_stocks"
   ]
  },
  {
   "cell_type": "code",
   "execution_count": 57,
   "metadata": {},
   "outputs": [
    {
     "name": "stdout",
     "output_type": "stream",
     "text": [
      "Index(['JNJ', 'PG', 'MMM', 'KO', 'IBM', 'VZ', 'MCD', 'PFE', 'RTX', 'WMT',\n",
      "       'MRK', 'V', 'DIS', 'MSFT', 'XOM', 'HD', 'TRV', 'INTC', 'AXP', 'NKE'],\n",
      "      dtype='object', name='stock_name')\n"
     ]
    }
   ],
   "source": [
    "list_of_stocks = filtered_stocks\n",
    "print(list_of_stocks)"
   ]
  },
  {
   "cell_type": "code",
   "execution_count": 58,
   "metadata": {},
   "outputs": [
    {
     "data": {
      "text/html": [
       "<div>\n",
       "<style scoped>\n",
       "    .dataframe tbody tr th:only-of-type {\n",
       "        vertical-align: middle;\n",
       "    }\n",
       "\n",
       "    .dataframe tbody tr th {\n",
       "        vertical-align: top;\n",
       "    }\n",
       "\n",
       "    .dataframe thead th {\n",
       "        text-align: right;\n",
       "    }\n",
       "</style>\n",
       "<table border=\"1\" class=\"dataframe\">\n",
       "  <thead>\n",
       "    <tr style=\"text-align: right;\">\n",
       "      <th></th>\n",
       "      <th>date</th>\n",
       "      <th>tic</th>\n",
       "      <th>close</th>\n",
       "      <th>high</th>\n",
       "      <th>low</th>\n",
       "      <th>open</th>\n",
       "      <th>volume</th>\n",
       "    </tr>\n",
       "  </thead>\n",
       "  <tbody>\n",
       "    <tr>\n",
       "      <th>0</th>\n",
       "      <td>2008-03-19</td>\n",
       "      <td>AAPL</td>\n",
       "      <td>3.994995</td>\n",
       "      <td>4.796071</td>\n",
       "      <td>4.631071</td>\n",
       "      <td>4.754286</td>\n",
       "      <td>1.010537e+09</td>\n",
       "    </tr>\n",
       "    <tr>\n",
       "      <th>1</th>\n",
       "      <td>2008-03-19</td>\n",
       "      <td>MSFT</td>\n",
       "      <td>21.468340</td>\n",
       "      <td>29.590000</td>\n",
       "      <td>28.620001</td>\n",
       "      <td>29.379999</td>\n",
       "      <td>6.144210e+07</td>\n",
       "    </tr>\n",
       "    <tr>\n",
       "      <th>2</th>\n",
       "      <td>2008-03-19</td>\n",
       "      <td>JPM</td>\n",
       "      <td>30.591537</td>\n",
       "      <td>44.889999</td>\n",
       "      <td>42.439999</td>\n",
       "      <td>43.259998</td>\n",
       "      <td>7.059330e+07</td>\n",
       "    </tr>\n",
       "    <tr>\n",
       "      <th>3</th>\n",
       "      <td>2008-03-19</td>\n",
       "      <td>V</td>\n",
       "      <td>12.927960</td>\n",
       "      <td>17.250000</td>\n",
       "      <td>13.750000</td>\n",
       "      <td>14.875000</td>\n",
       "      <td>7.084860e+08</td>\n",
       "    </tr>\n",
       "    <tr>\n",
       "      <th>4</th>\n",
       "      <td>2008-03-19</td>\n",
       "      <td>RTX</td>\n",
       "      <td>31.819752</td>\n",
       "      <td>44.361233</td>\n",
       "      <td>43.272499</td>\n",
       "      <td>43.813721</td>\n",
       "      <td>9.691947e+06</td>\n",
       "    </tr>\n",
       "  </tbody>\n",
       "</table>\n",
       "</div>"
      ],
      "text/plain": [
       "         date   tic      close       high        low       open        volume\n",
       "0  2008-03-19  AAPL   3.994995   4.796071   4.631071   4.754286  1.010537e+09\n",
       "1  2008-03-19  MSFT  21.468340  29.590000  28.620001  29.379999  6.144210e+07\n",
       "2  2008-03-19   JPM  30.591537  44.889999  42.439999  43.259998  7.059330e+07\n",
       "3  2008-03-19     V  12.927960  17.250000  13.750000  14.875000  7.084860e+08\n",
       "4  2008-03-19   RTX  31.819752  44.361233  43.272499  43.813721  9.691947e+06"
      ]
     },
     "execution_count": 58,
     "metadata": {},
     "output_type": "execute_result"
    }
   ],
   "source": [
    "data.head()"
   ]
  },
  {
   "cell_type": "code",
   "execution_count": 59,
   "metadata": {},
   "outputs": [],
   "source": [
    "data = data[data['tic'].isin(list_of_stocks)]"
   ]
  },
  {
   "cell_type": "code",
   "execution_count": 60,
   "metadata": {},
   "outputs": [
    {
     "data": {
      "text/plain": [
       "array(['MSFT', 'V', 'RTX', 'PG', 'NKE', 'DIS', 'AXP', 'HD', 'INTC', 'WMT',\n",
       "       'IBM', 'MRK', 'KO', 'TRV', 'JNJ', 'MCD', 'VZ', 'XOM', 'MMM', 'PFE'],\n",
       "      dtype=object)"
      ]
     },
     "execution_count": 60,
     "metadata": {},
     "output_type": "execute_result"
    }
   ],
   "source": [
    "data.tic.unique()"
   ]
  },
  {
   "cell_type": "markdown",
   "metadata": {},
   "source": [
    "### 4.3 Add Technical Indicators\n",
    "---\n",
    "We define a function to add technical indicators to the dataset by making use of the ta library\n",
    "\n",
    "The folloing indicators are considered:\n",
    "* Volatility Average True Range (ATR)\n",
    "* Volatility Bollinger Band Width (BBW)\n",
    "* Volume On-balance Volume (OBV\n",
    "* Volume Chaikin Money Flow (CMF)\n",
    "* Trend Moving Average Convergence Divergence (MACD)\n",
    "* Trend Average Directional Index (ADX)\n",
    "* Trend Fast Simple Moving Average (SMA)\n",
    "* Trend Fast Exponential Moving Average (EMA)\n",
    "* Trend Commodity Channel Index (CCI)\n",
    "* Momentum Relative Strength Index (RSI)"
   ]
  },
  {
   "cell_type": "code",
   "execution_count": 61,
   "metadata": {},
   "outputs": [],
   "source": [
    "# Define a Function for adding technical indicators\n",
    "\n",
    "def add_features(data, feature_list, short_names):\n",
    "    \"\"\"\n",
    "    Function to add technical indicators for features\n",
    "    -Takes in a dataset with Open, High, Low, Close and Volume\n",
    "    -Also takes in a list of the technical indicators to be added \n",
    "     as well as a list of the shortened indicator names\n",
    "    \"\"\"\n",
    "    \n",
    "    # list of column names to filter the features\n",
    "    data_col_names = list(data.columns)\n",
    "    filter_names = data_col_names + feature_list\n",
    "    col_rename = data_col_names +  short_names\n",
    "    \n",
    "    # Add technical indicators using the ta Library\n",
    "    data = add_all_ta_features(data, open=\"open\", high=\"high\", \n",
    "    low=\"low\", close=\"close\", volume=\"volume\") \n",
    "    \n",
    "    # Filter the Indicators with the required features\n",
    "    data = data[filter_names]\n",
    "    data.columns = col_rename # rename the columns to use shortened indicator names\n",
    "    data = data.dropna()\n",
    "    \n",
    "    return data"
   ]
  },
  {
   "cell_type": "code",
   "execution_count": 62,
   "metadata": {},
   "outputs": [],
   "source": [
    "# List of Features to add\n",
    "feature_list= ['volatility_atr','volatility_bbw','volume_obv','volume_cmf',\n",
    "               'trend_macd', 'trend_adx', 'trend_sma_fast', \n",
    "               'trend_ema_fast', 'trend_cci', 'momentum_rsi']\n",
    "\n",
    "# Short names of the features\n",
    "short_names = ['atr', 'bbw','obv','cmf','macd', 'adx', 'sma', 'ema', 'cci', 'rsi']\n",
    "\n",
    "#feature_list= ['volatility_atr','volatility_bbw','volume_obv','volume_cmf','trend_macd']\n",
    "\n",
    "# Short names of the features\n",
    "#short_names = ['atr', 'bbw','obv','cmf','macd']"
   ]
  },
  {
   "cell_type": "code",
   "execution_count": 63,
   "metadata": {},
   "outputs": [
    {
     "name": "stderr",
     "output_type": "stream",
     "text": [
      "C:\\Users\\VisionHigh\\anaconda3\\lib\\site-packages\\ta\\volume.py:319: RuntimeWarning: overflow encountered in double_scalars\n",
      "  self._nvi.iloc[i] = self._nvi.iloc[i - 1] * (1.0 + price_change.iloc[i])\n",
      "C:\\Users\\VisionHigh\\anaconda3\\lib\\site-packages\\ta\\trend.py:768: RuntimeWarning: invalid value encountered in double_scalars\n",
      "  dip[i] = 100 * (self._dip[i] / self._trs[i])\n",
      "C:\\Users\\VisionHigh\\anaconda3\\lib\\site-packages\\ta\\trend.py:772: RuntimeWarning: invalid value encountered in double_scalars\n",
      "  din[i] = 100 * (self._din[i] / self._trs[i])\n"
     ]
    }
   ],
   "source": [
    "# Add Indicators to our dataset\n",
    "data_with_features = data.copy()\n",
    "\n",
    "data_with_features = add_features(data_with_features, feature_list, short_names)"
   ]
  },
  {
   "cell_type": "code",
   "execution_count": 64,
   "metadata": {
    "scrolled": true
   },
   "outputs": [
    {
     "data": {
      "text/html": [
       "<div>\n",
       "<style scoped>\n",
       "    .dataframe tbody tr th:only-of-type {\n",
       "        vertical-align: middle;\n",
       "    }\n",
       "\n",
       "    .dataframe tbody tr th {\n",
       "        vertical-align: top;\n",
       "    }\n",
       "\n",
       "    .dataframe thead th {\n",
       "        text-align: right;\n",
       "    }\n",
       "</style>\n",
       "<table border=\"1\" class=\"dataframe\">\n",
       "  <thead>\n",
       "    <tr style=\"text-align: right;\">\n",
       "      <th></th>\n",
       "      <th>date</th>\n",
       "      <th>tic</th>\n",
       "      <th>close</th>\n",
       "      <th>high</th>\n",
       "      <th>low</th>\n",
       "      <th>open</th>\n",
       "      <th>volume</th>\n",
       "      <th>atr</th>\n",
       "      <th>bbw</th>\n",
       "      <th>obv</th>\n",
       "      <th>cmf</th>\n",
       "      <th>macd</th>\n",
       "      <th>adx</th>\n",
       "      <th>sma</th>\n",
       "      <th>ema</th>\n",
       "      <th>cci</th>\n",
       "      <th>rsi</th>\n",
       "    </tr>\n",
       "  </thead>\n",
       "  <tbody>\n",
       "    <tr>\n",
       "      <th>38</th>\n",
       "      <td>2008-03-20</td>\n",
       "      <td>DIS</td>\n",
       "      <td>27.063406</td>\n",
       "      <td>31.980000</td>\n",
       "      <td>31.250000</td>\n",
       "      <td>31.280001</td>\n",
       "      <td>13802300.0</td>\n",
       "      <td>26.127485</td>\n",
       "      <td>212.267559</td>\n",
       "      <td>-873707227.0</td>\n",
       "      <td>-15.908724</td>\n",
       "      <td>0.016350</td>\n",
       "      <td>0.000000</td>\n",
       "      <td>31.457803</td>\n",
       "      <td>29.281244</td>\n",
       "      <td>-42.797710</td>\n",
       "      <td>49.486309</td>\n",
       "    </tr>\n",
       "    <tr>\n",
       "      <th>39</th>\n",
       "      <td>2008-03-20</td>\n",
       "      <td>AXP</td>\n",
       "      <td>36.957962</td>\n",
       "      <td>46.130001</td>\n",
       "      <td>42.209999</td>\n",
       "      <td>42.209999</td>\n",
       "      <td>17558800.0</td>\n",
       "      <td>25.421396</td>\n",
       "      <td>211.577285</td>\n",
       "      <td>-856148427.0</td>\n",
       "      <td>-15.766593</td>\n",
       "      <td>0.627527</td>\n",
       "      <td>0.000000</td>\n",
       "      <td>30.851009</td>\n",
       "      <td>30.462278</td>\n",
       "      <td>0.466515</td>\n",
       "      <td>51.789520</td>\n",
       "    </tr>\n",
       "    <tr>\n",
       "      <th>40</th>\n",
       "      <td>2008-03-20</td>\n",
       "      <td>HD</td>\n",
       "      <td>20.265160</td>\n",
       "      <td>28.170000</td>\n",
       "      <td>26.959999</td>\n",
       "      <td>26.969999</td>\n",
       "      <td>22243000.0</td>\n",
       "      <td>23.879052</td>\n",
       "      <td>210.890244</td>\n",
       "      <td>-878391427.0</td>\n",
       "      <td>-15.729920</td>\n",
       "      <td>-0.232402</td>\n",
       "      <td>5.426657</td>\n",
       "      <td>29.478602</td>\n",
       "      <td>28.893490</td>\n",
       "      <td>-61.996629</td>\n",
       "      <td>47.827473</td>\n",
       "    </tr>\n",
       "    <tr>\n",
       "      <th>41</th>\n",
       "      <td>2008-03-20</td>\n",
       "      <td>INTC</td>\n",
       "      <td>14.753081</td>\n",
       "      <td>21.760000</td>\n",
       "      <td>21.090000</td>\n",
       "      <td>21.469999</td>\n",
       "      <td>67373400.0</td>\n",
       "      <td>21.640631</td>\n",
       "      <td>210.455216</td>\n",
       "      <td>-945764827.0</td>\n",
       "      <td>-15.512119</td>\n",
       "      <td>-1.343197</td>\n",
       "      <td>5.274361</td>\n",
       "      <td>29.253385</td>\n",
       "      <td>26.718043</td>\n",
       "      <td>-84.305925</td>\n",
       "      <td>46.560787</td>\n",
       "    </tr>\n",
       "    <tr>\n",
       "      <th>42</th>\n",
       "      <td>2008-03-20</td>\n",
       "      <td>WMT</td>\n",
       "      <td>39.480015</td>\n",
       "      <td>53.490002</td>\n",
       "      <td>50.799999</td>\n",
       "      <td>50.849998</td>\n",
       "      <td>44533300.0</td>\n",
       "      <td>23.350260</td>\n",
       "      <td>210.268469</td>\n",
       "      <td>-901231527.0</td>\n",
       "      <td>-14.413917</td>\n",
       "      <td>-0.225652</td>\n",
       "      <td>5.335948</td>\n",
       "      <td>28.004008</td>\n",
       "      <td>28.681423</td>\n",
       "      <td>23.121229</td>\n",
       "      <td>52.622596</td>\n",
       "    </tr>\n",
       "  </tbody>\n",
       "</table>\n",
       "</div>"
      ],
      "text/plain": [
       "          date   tic      close       high        low       open      volume  \\\n",
       "38  2008-03-20   DIS  27.063406  31.980000  31.250000  31.280001  13802300.0   \n",
       "39  2008-03-20   AXP  36.957962  46.130001  42.209999  42.209999  17558800.0   \n",
       "40  2008-03-20    HD  20.265160  28.170000  26.959999  26.969999  22243000.0   \n",
       "41  2008-03-20  INTC  14.753081  21.760000  21.090000  21.469999  67373400.0   \n",
       "42  2008-03-20   WMT  39.480015  53.490002  50.799999  50.849998  44533300.0   \n",
       "\n",
       "          atr         bbw          obv        cmf      macd       adx  \\\n",
       "38  26.127485  212.267559 -873707227.0 -15.908724  0.016350  0.000000   \n",
       "39  25.421396  211.577285 -856148427.0 -15.766593  0.627527  0.000000   \n",
       "40  23.879052  210.890244 -878391427.0 -15.729920 -0.232402  5.426657   \n",
       "41  21.640631  210.455216 -945764827.0 -15.512119 -1.343197  5.274361   \n",
       "42  23.350260  210.268469 -901231527.0 -14.413917 -0.225652  5.335948   \n",
       "\n",
       "          sma        ema        cci        rsi  \n",
       "38  31.457803  29.281244 -42.797710  49.486309  \n",
       "39  30.851009  30.462278   0.466515  51.789520  \n",
       "40  29.478602  28.893490 -61.996629  47.827473  \n",
       "41  29.253385  26.718043 -84.305925  46.560787  \n",
       "42  28.004008  28.681423  23.121229  52.622596  "
      ]
     },
     "execution_count": 64,
     "metadata": {},
     "output_type": "execute_result"
    }
   ],
   "source": [
    "data_with_features.head()"
   ]
  },
  {
   "cell_type": "code",
   "execution_count": 65,
   "metadata": {},
   "outputs": [],
   "source": [
    "feature_list = list(data_with_features.columns)[7:]"
   ]
  },
  {
   "cell_type": "code",
   "execution_count": 66,
   "metadata": {},
   "outputs": [
    {
     "name": "stdout",
     "output_type": "stream",
     "text": [
      "['atr', 'bbw', 'obv', 'cmf', 'macd', 'adx', 'sma', 'ema', 'cci', 'rsi']\n"
     ]
    }
   ],
   "source": [
    "print(feature_list)"
   ]
  },
  {
   "cell_type": "markdown",
   "metadata": {},
   "source": [
    "### 4.4 Add Covariance Matrix\n",
    "---\n",
    "We define a function that will add Covarance Matrices to our dataset"
   ]
  },
  {
   "cell_type": "code",
   "execution_count": 67,
   "metadata": {},
   "outputs": [],
   "source": [
    "def add_cov_matrix(df):\n",
    "    \"\"\"\n",
    "    Function to add Coveriance Matrices as part of the defined states\n",
    "    \"\"\"\n",
    "    # Sort the data and index by date and tic\n",
    "    df=df.sort_values(['date','tic'],ignore_index=True) \n",
    "    df.index = df.date.factorize()[0]\n",
    "    \n",
    "    cov_list = [] # create empty list for storing coveriance matrices at each time step\n",
    "    \n",
    "    # look back for constructing the coveriance matrix is one year\n",
    "    lookback=252\n",
    "    for i in range(lookback,len(df.index.unique())):\n",
    "        data_lookback = df.loc[i-lookback:i,:]\n",
    "        price_lookback=data_lookback.pivot_table(index = 'date',columns = 'tic', values = 'close')\n",
    "        return_lookback = price_lookback.pct_change().dropna()\n",
    "        covs = return_lookback.cov().values \n",
    "        covs = covs#/covs.max()\n",
    "        cov_list.append(covs)\n",
    "        \n",
    "    df_cov = pd.DataFrame({'date':df.date.unique()[lookback:],'cov_list':cov_list})\n",
    "    df = df.merge(df_cov, on='date')\n",
    "    df = df.sort_values(['date','tic']).reset_index(drop=True)\n",
    "    \n",
    "    return df"
   ]
  },
  {
   "cell_type": "code",
   "execution_count": 68,
   "metadata": {},
   "outputs": [],
   "source": [
    "# Add Covariance Matrices to our dataset\n",
    "data_with_features_covs = data_with_features.copy()\n",
    "data_with_features_covs = add_cov_matrix(data_with_features_covs)"
   ]
  },
  {
   "cell_type": "code",
   "execution_count": 69,
   "metadata": {
    "scrolled": true
   },
   "outputs": [
    {
     "data": {
      "text/html": [
       "<div>\n",
       "<style scoped>\n",
       "    .dataframe tbody tr th:only-of-type {\n",
       "        vertical-align: middle;\n",
       "    }\n",
       "\n",
       "    .dataframe tbody tr th {\n",
       "        vertical-align: top;\n",
       "    }\n",
       "\n",
       "    .dataframe thead th {\n",
       "        text-align: right;\n",
       "    }\n",
       "</style>\n",
       "<table border=\"1\" class=\"dataframe\">\n",
       "  <thead>\n",
       "    <tr style=\"text-align: right;\">\n",
       "      <th></th>\n",
       "      <th>date</th>\n",
       "      <th>tic</th>\n",
       "      <th>close</th>\n",
       "      <th>high</th>\n",
       "      <th>low</th>\n",
       "      <th>open</th>\n",
       "      <th>volume</th>\n",
       "      <th>atr</th>\n",
       "      <th>bbw</th>\n",
       "      <th>obv</th>\n",
       "      <th>cmf</th>\n",
       "      <th>macd</th>\n",
       "      <th>adx</th>\n",
       "      <th>sma</th>\n",
       "      <th>ema</th>\n",
       "      <th>cci</th>\n",
       "      <th>rsi</th>\n",
       "      <th>cov_list</th>\n",
       "    </tr>\n",
       "  </thead>\n",
       "  <tbody>\n",
       "    <tr>\n",
       "      <th>0</th>\n",
       "      <td>2009-03-20</td>\n",
       "      <td>AXP</td>\n",
       "      <td>10.072534</td>\n",
       "      <td>13.19</td>\n",
       "      <td>12.12</td>\n",
       "      <td>13.190000</td>\n",
       "      <td>31088200.0</td>\n",
       "      <td>16.678314</td>\n",
       "      <td>243.395109</td>\n",
       "      <td>-1.445076e+10</td>\n",
       "      <td>-14.875466</td>\n",
       "      <td>-2.758666</td>\n",
       "      <td>5.959579</td>\n",
       "      <td>21.112451</td>\n",
       "      <td>18.906621</td>\n",
       "      <td>-76.944259</td>\n",
       "      <td>46.527407</td>\n",
       "      <td>[[0.002610715086827884, 0.0012647352623545009,...</td>\n",
       "    </tr>\n",
       "    <tr>\n",
       "      <th>1</th>\n",
       "      <td>2009-03-20</td>\n",
       "      <td>DIS</td>\n",
       "      <td>15.026185</td>\n",
       "      <td>17.98</td>\n",
       "      <td>17.08</td>\n",
       "      <td>17.799999</td>\n",
       "      <td>17766600.0</td>\n",
       "      <td>18.208550</td>\n",
       "      <td>242.540988</td>\n",
       "      <td>-1.441968e+10</td>\n",
       "      <td>-14.772689</td>\n",
       "      <td>-2.079888</td>\n",
       "      <td>5.944065</td>\n",
       "      <td>23.204316</td>\n",
       "      <td>20.512819</td>\n",
       "      <td>-57.177326</td>\n",
       "      <td>47.834794</td>\n",
       "      <td>[[0.002610715086827884, 0.0012647352623545009,...</td>\n",
       "    </tr>\n",
       "    <tr>\n",
       "      <th>2</th>\n",
       "      <td>2009-03-20</td>\n",
       "      <td>HD</td>\n",
       "      <td>16.652840</td>\n",
       "      <td>22.73</td>\n",
       "      <td>21.76</td>\n",
       "      <td>22.590000</td>\n",
       "      <td>22361800.0</td>\n",
       "      <td>16.276229</td>\n",
       "      <td>243.588752</td>\n",
       "      <td>-1.442840e+10</td>\n",
       "      <td>-14.632660</td>\n",
       "      <td>-2.734109</td>\n",
       "      <td>5.686130</td>\n",
       "      <td>19.282005</td>\n",
       "      <td>18.559885</td>\n",
       "      <td>-41.654768</td>\n",
       "      <td>48.539462</td>\n",
       "      <td>[[0.002610715086827884, 0.0012647352623545009,...</td>\n",
       "    </tr>\n",
       "    <tr>\n",
       "      <th>3</th>\n",
       "      <td>2009-03-20</td>\n",
       "      <td>IBM</td>\n",
       "      <td>64.557983</td>\n",
       "      <td>95.00</td>\n",
       "      <td>92.18</td>\n",
       "      <td>93.160004</td>\n",
       "      <td>12193900.0</td>\n",
       "      <td>21.418925</td>\n",
       "      <td>243.773182</td>\n",
       "      <td>-1.447454e+10</td>\n",
       "      <td>-13.786223</td>\n",
       "      <td>2.275133</td>\n",
       "      <td>7.138456</td>\n",
       "      <td>20.680496</td>\n",
       "      <td>27.180991</td>\n",
       "      <td>218.356625</td>\n",
       "      <td>60.801785</td>\n",
       "      <td>[[0.002610715086827884, 0.0012647352623545009,...</td>\n",
       "    </tr>\n",
       "    <tr>\n",
       "      <th>4</th>\n",
       "      <td>2009-03-20</td>\n",
       "      <td>INTC</td>\n",
       "      <td>10.250909</td>\n",
       "      <td>15.40</td>\n",
       "      <td>14.35</td>\n",
       "      <td>15.190000</td>\n",
       "      <td>84639100.0</td>\n",
       "      <td>14.878890</td>\n",
       "      <td>244.037410</td>\n",
       "      <td>-1.451304e+10</td>\n",
       "      <td>-13.949048</td>\n",
       "      <td>-3.194407</td>\n",
       "      <td>5.647357</td>\n",
       "      <td>18.807598</td>\n",
       "      <td>17.281581</td>\n",
       "      <td>-70.446011</td>\n",
       "      <td>46.698434</td>\n",
       "      <td>[[0.002610715086827884, 0.0012647352623545009,...</td>\n",
       "    </tr>\n",
       "  </tbody>\n",
       "</table>\n",
       "</div>"
      ],
      "text/plain": [
       "         date   tic      close   high    low       open      volume  \\\n",
       "0  2009-03-20   AXP  10.072534  13.19  12.12  13.190000  31088200.0   \n",
       "1  2009-03-20   DIS  15.026185  17.98  17.08  17.799999  17766600.0   \n",
       "2  2009-03-20    HD  16.652840  22.73  21.76  22.590000  22361800.0   \n",
       "3  2009-03-20   IBM  64.557983  95.00  92.18  93.160004  12193900.0   \n",
       "4  2009-03-20  INTC  10.250909  15.40  14.35  15.190000  84639100.0   \n",
       "\n",
       "         atr         bbw           obv        cmf      macd       adx  \\\n",
       "0  16.678314  243.395109 -1.445076e+10 -14.875466 -2.758666  5.959579   \n",
       "1  18.208550  242.540988 -1.441968e+10 -14.772689 -2.079888  5.944065   \n",
       "2  16.276229  243.588752 -1.442840e+10 -14.632660 -2.734109  5.686130   \n",
       "3  21.418925  243.773182 -1.447454e+10 -13.786223  2.275133  7.138456   \n",
       "4  14.878890  244.037410 -1.451304e+10 -13.949048 -3.194407  5.647357   \n",
       "\n",
       "         sma        ema         cci        rsi  \\\n",
       "0  21.112451  18.906621  -76.944259  46.527407   \n",
       "1  23.204316  20.512819  -57.177326  47.834794   \n",
       "2  19.282005  18.559885  -41.654768  48.539462   \n",
       "3  20.680496  27.180991  218.356625  60.801785   \n",
       "4  18.807598  17.281581  -70.446011  46.698434   \n",
       "\n",
       "                                            cov_list  \n",
       "0  [[0.002610715086827884, 0.0012647352623545009,...  \n",
       "1  [[0.002610715086827884, 0.0012647352623545009,...  \n",
       "2  [[0.002610715086827884, 0.0012647352623545009,...  \n",
       "3  [[0.002610715086827884, 0.0012647352623545009,...  \n",
       "4  [[0.002610715086827884, 0.0012647352623545009,...  "
      ]
     },
     "execution_count": 69,
     "metadata": {},
     "output_type": "execute_result"
    }
   ],
   "source": [
    "data_with_features_covs.head()"
   ]
  },
  {
   "cell_type": "markdown",
   "metadata": {},
   "source": [
    "### 4.6 Store the Dataframe"
   ]
  },
  {
   "cell_type": "code",
   "execution_count": 70,
   "metadata": {},
   "outputs": [],
   "source": [
    "df = data_with_features_covs"
   ]
  },
  {
   "cell_type": "code",
   "execution_count": 71,
   "metadata": {},
   "outputs": [
    {
     "name": "stdout",
     "output_type": "stream",
     "text": [
      "Stored 'df' (DataFrame)\n"
     ]
    }
   ],
   "source": [
    "%store df"
   ]
  },
  {
   "cell_type": "code",
   "execution_count": null,
   "metadata": {},
   "outputs": [],
   "source": []
  }
 ],
 "metadata": {
  "kernelspec": {
   "display_name": "Python 3",
   "language": "python",
   "name": "python3"
  },
  "language_info": {
   "codemirror_mode": {
    "name": "ipython",
    "version": 3
   },
   "file_extension": ".py",
   "mimetype": "text/x-python",
   "name": "python",
   "nbconvert_exporter": "python",
   "pygments_lexer": "ipython3",
   "version": "3.8.5"
  }
 },
 "nbformat": 4,
 "nbformat_minor": 4
}
